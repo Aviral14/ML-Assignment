{
 "cells": [
  {
   "cell_type": "code",
   "execution_count": 1,
   "metadata": {},
   "outputs": [],
   "source": [
    "import numpy as np\n",
    "import pandas as pd\n",
    "import random\n",
    "from matplotlib import pyplot as plt\n",
    "\n",
    "%matplotlib inline"
   ]
  },
  {
   "cell_type": "code",
   "execution_count": 2,
   "metadata": {},
   "outputs": [],
   "source": [
    "ds = pd.read_csv('dataset_FLD.csv', header=None)\n",
    "X = ds[[0,1,2]]\n",
    "y = ds[3]\n",
    "# no_classes = len(np.unique(y))  \n",
    "# no_features = np.size(X, axis=1)"
   ]
  },
  {
   "cell_type": "code",
   "execution_count": 3,
   "metadata": {},
   "outputs": [],
   "source": [
    "class LDA():\n",
    "    \n",
    "    def __init__(self):\n",
    "        self.w = None\n",
    "    \n",
    "    def fit(self, X, y):\n",
    "        \n",
    "        X0 = X[y == 0]\n",
    "        X1 = X[y == 1]\n",
    "        \n",
    "        mean0 = X0.mean(axis=0)\n",
    "        mean1 = X1.mean(axis=0)\n",
    "        diff_means = mean0 - mean1\n",
    "        \n",
    "        N = np.shape(X)[0]\n",
    "        \n",
    "        sw0 = np.array((1 / N) * (X0 - X0.mean(axis=0)).T.dot(X0 - X0.mean(axis=0)))\n",
    "        sw1 = np.array((1 / N) * (X1 - X1.mean(axis=0)).T.dot(X1 - X1.mean(axis=0)))\n",
    "        sw = sw0 + sw1\n",
    "        \n",
    "        self.w = np.linalg.pinv(sw).dot(diff_means) \n",
    "        \n",
    "    def fit_transform(self, X, y):\n",
    "        self.fit(X, y)\n",
    "        X_transform = self.transform(X, y)\n",
    "        return X_transform\n",
    "    \n",
    "    def transform(self, X, y):\n",
    "        # Project data onto vector\n",
    "        X_transform = X.dot(self.w)\n",
    "        return X_transform"
   ]
  },
  {
   "cell_type": "code",
   "execution_count": 4,
   "metadata": {},
   "outputs": [
    {
     "data": {
      "text/plain": [
       "0      22.981961\n",
       "1      22.495683\n",
       "2     -12.789120\n",
       "3     -12.469154\n",
       "4      -9.839819\n",
       "         ...    \n",
       "995    20.323394\n",
       "996   -23.444400\n",
       "997   -20.254024\n",
       "998   -29.783142\n",
       "999    25.117100\n",
       "Length: 1000, dtype: float64"
      ]
     },
     "execution_count": 4,
     "metadata": {},
     "output_type": "execute_result"
    }
   ],
   "source": [
    "l = LDA()\n",
    "l.fit_transform(X, y)"
   ]
  },
  {
   "cell_type": "code",
   "execution_count": null,
   "metadata": {},
   "outputs": [],
   "source": []
  }
 ],
 "metadata": {
  "kernelspec": {
   "display_name": "Python 3",
   "language": "python",
   "name": "python3"
  },
  "language_info": {
   "codemirror_mode": {
    "name": "ipython",
    "version": 3
   },
   "file_extension": ".py",
   "mimetype": "text/x-python",
   "name": "python",
   "nbconvert_exporter": "python",
   "pygments_lexer": "ipython3",
   "version": "3.7.9"
  }
 },
 "nbformat": 4,
 "nbformat_minor": 4
}
