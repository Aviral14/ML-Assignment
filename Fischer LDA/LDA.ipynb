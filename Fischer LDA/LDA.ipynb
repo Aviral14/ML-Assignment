{
 "cells": [
  {
   "cell_type": "markdown",
   "metadata": {},
   "source": [
    "# ML Assignment 1 : Fischer’s Linear Discriminant\n",
    "### Anirudh Agrawal: 2018A7PS0099H | Aviral Agarwal: 2018A7PS0192H | Vikramjeet Das: 2018A7PS0280H"
   ]
  },
  {
   "cell_type": "code",
   "execution_count": 1,
   "metadata": {},
   "outputs": [],
   "source": [
    "import numpy as np\n",
    "import pandas as pd\n",
    "import random\n",
    "import math\n",
    "from matplotlib import pyplot as plt\n",
    "from mpl_toolkits.mplot3d import Axes3D\n",
    "import matplotlib.cm as cm\n",
    "\n",
    "%matplotlib inline"
   ]
  },
  {
   "cell_type": "code",
   "execution_count": 2,
   "metadata": {},
   "outputs": [],
   "source": [
    "ds = pd.read_csv('dataset_FLD.csv', header=None)\n",
    "X = ds[[0,1,2]]\n",
    "y = ds[3]"
   ]
  },
  {
   "cell_type": "code",
   "execution_count": 3,
   "metadata": {},
   "outputs": [],
   "source": [
    "class LDA():\n",
    "    \n",
    "    def __init__(self):\n",
    "        self.w = None\n",
    "        self.threshold = None\n",
    "        self.less_class = None\n",
    "        self.more_class = None\n",
    "        self.X_transformed0 = None\n",
    "        self.X_transformed1 = None\n",
    "    \n",
    "    def fit(self, X, y):\n",
    "        \n",
    "        X0 = X[y == 0]\n",
    "        X1 = X[y == 1]\n",
    "        \n",
    "        mean0 = X0.mean(axis=0)\n",
    "        mean1 = X1.mean(axis=0)\n",
    "        diff_means = mean0 - mean1\n",
    "        \n",
    "        N = np.shape(X)[0]\n",
    "        \n",
    "        sw0 = np.array((1 / N) * (X0 - X0.mean(axis=0)).T.dot(X0 - X0.mean(axis=0)))\n",
    "        sw1 = np.array((1 / N) * (X1 - X1.mean(axis=0)).T.dot(X1 - X1.mean(axis=0)))\n",
    "        sw = sw0 + sw1\n",
    "        \n",
    "        self.w = np.linalg.pinv(sw).dot(diff_means)\n",
    "        X_t = self.transform(X)\n",
    "        self.fit_normal_dist(X, y)\n",
    "        \n",
    "    def fit_transform(self, X, y):\n",
    "        self.fit(X, y)\n",
    "        X_transform = self.transform(X)\n",
    "        return X_transform\n",
    "    \n",
    "    def transform(self, X):\n",
    "        # Project data onto vector\n",
    "        X_transform = X.dot(self.w)\n",
    "        return X_transform\n",
    "\n",
    "    def fit_normal_dist(self, X, y):\n",
    "        X_transformed = self.transform(X)\n",
    "        self.X_transformed0 = X_transformed[y == 0]\n",
    "        self.X_transformed1 = X_transformed[y == 1]\n",
    "\n",
    "        mean_transformed0 = self.X_transformed0.mean(axis=0)\n",
    "        mean_transformed1 = self.X_transformed1.mean(axis=0)\n",
    "\n",
    "        variation_transformed0 = np.var(self.X_transformed0)\n",
    "        variation_transformed1 = np.var(self.X_transformed1)\n",
    "\n",
    "        a = 0.5 * ((1/variation_transformed0) - (1/variation_transformed1))\n",
    "        b = 2 * ((mean_transformed1/variation_transformed1) - (mean_transformed0/variation_transformed0))\n",
    "        c = (((mean_transformed0 ** 2) / variation_transformed0) - ((mean_transformed1 ** 2) / variation_transformed1)) + np.log(variation_transformed0 / variation_transformed1)\n",
    "\n",
    "        D = np.sqrt((b ** 2) - (4 * a * c))\n",
    "\n",
    "        root1 = ((-b) + D) / (2 * a)\n",
    "        root2 = ((-b) - D) / (2 * a) \n",
    "\n",
    "        if((root1 > mean_transformed1 and root1 < mean_transformed0) or (root1 > mean_transformed0 and root1 < mean_transformed1)):\n",
    "            self.threshold = root1\n",
    "        elif((root2 > mean_transformed1 and root2 < mean_transformed0) or (root2 > mean_transformed0 and root2 < mean_transformed1)):\n",
    "            self.threshold = root2\n",
    "\n",
    "        if((mean_transformed0 <= self.threshold) and (mean_transformed1 >= self.threshold)):\n",
    "            self.less_class = 0\n",
    "            self.more_class = 1\n",
    "        if((mean_transformed1 <= self.threshold) and (mean_transformed0 >= self.threshold)):\n",
    "            self.less_class = 1\n",
    "            self.more_class = 0\n",
    "\n",
    "    def evaluate(self, X, y):\n",
    "        y_pred = self.transform(X)\n",
    "        more_idx = np.where(y_pred > self.threshold)[0]\n",
    "        less_idx = np.where(y_pred <= self.threshold)[0]\n",
    "        y_pred[more_idx] = self.more_class\n",
    "        y_pred[less_idx] = self.less_class\n",
    "        return (np.sum(y == y_pred) / len(y))"
   ]
  },
  {
   "cell_type": "code",
   "execution_count": 4,
   "metadata": {},
   "outputs": [
    {
     "ename": "NameError",
     "evalue": "name 'X_transformed' is not defined",
     "output_type": "error",
     "traceback": [
      "\u001b[0;31m---------------------------------------------------------------------------\u001b[0m",
      "\u001b[0;31mNameError\u001b[0m                                 Traceback (most recent call last)",
      "\u001b[0;32m<ipython-input-4-5f81246438a4>\u001b[0m in \u001b[0;36m<module>\u001b[0;34m\u001b[0m\n\u001b[1;32m      1\u001b[0m \u001b[0ml\u001b[0m \u001b[0;34m=\u001b[0m \u001b[0mLDA\u001b[0m\u001b[0;34m(\u001b[0m\u001b[0;34m)\u001b[0m\u001b[0;34m\u001b[0m\u001b[0;34m\u001b[0m\u001b[0m\n\u001b[0;32m----> 2\u001b[0;31m \u001b[0ml\u001b[0m\u001b[0;34m.\u001b[0m\u001b[0mfit_transform\u001b[0m\u001b[0;34m(\u001b[0m\u001b[0mX\u001b[0m\u001b[0;34m,\u001b[0m \u001b[0my\u001b[0m\u001b[0;34m)\u001b[0m\u001b[0;34m\u001b[0m\u001b[0;34m\u001b[0m\u001b[0m\n\u001b[0m\u001b[1;32m      3\u001b[0m \u001b[0mprint\u001b[0m\u001b[0;34m(\u001b[0m\u001b[0;34mf'Accuracy is: {l.evaluate(X, y)}'\u001b[0m\u001b[0;34m)\u001b[0m\u001b[0;34m\u001b[0m\u001b[0;34m\u001b[0m\u001b[0m\n",
      "\u001b[0;32m<ipython-input-3-8fc66f69e0a8>\u001b[0m in \u001b[0;36mfit_transform\u001b[0;34m(self, X, y)\u001b[0m\n\u001b[1;32m     29\u001b[0m \u001b[0;34m\u001b[0m\u001b[0m\n\u001b[1;32m     30\u001b[0m     \u001b[0;32mdef\u001b[0m \u001b[0mfit_transform\u001b[0m\u001b[0;34m(\u001b[0m\u001b[0mself\u001b[0m\u001b[0;34m,\u001b[0m \u001b[0mX\u001b[0m\u001b[0;34m,\u001b[0m \u001b[0my\u001b[0m\u001b[0;34m)\u001b[0m\u001b[0;34m:\u001b[0m\u001b[0;34m\u001b[0m\u001b[0;34m\u001b[0m\u001b[0m\n\u001b[0;32m---> 31\u001b[0;31m         \u001b[0mself\u001b[0m\u001b[0;34m.\u001b[0m\u001b[0mfit\u001b[0m\u001b[0;34m(\u001b[0m\u001b[0mX\u001b[0m\u001b[0;34m,\u001b[0m \u001b[0my\u001b[0m\u001b[0;34m)\u001b[0m\u001b[0;34m\u001b[0m\u001b[0;34m\u001b[0m\u001b[0m\n\u001b[0m\u001b[1;32m     32\u001b[0m         \u001b[0mX_transform\u001b[0m \u001b[0;34m=\u001b[0m \u001b[0mself\u001b[0m\u001b[0;34m.\u001b[0m\u001b[0mtransform\u001b[0m\u001b[0;34m(\u001b[0m\u001b[0mX\u001b[0m\u001b[0;34m)\u001b[0m\u001b[0;34m\u001b[0m\u001b[0;34m\u001b[0m\u001b[0m\n\u001b[1;32m     33\u001b[0m         \u001b[0;32mreturn\u001b[0m \u001b[0mX_transform\u001b[0m\u001b[0;34m\u001b[0m\u001b[0;34m\u001b[0m\u001b[0m\n",
      "\u001b[0;32m<ipython-input-3-8fc66f69e0a8>\u001b[0m in \u001b[0;36mfit\u001b[0;34m(self, X, y)\u001b[0m\n\u001b[1;32m     26\u001b[0m         \u001b[0mself\u001b[0m\u001b[0;34m.\u001b[0m\u001b[0mw\u001b[0m \u001b[0;34m=\u001b[0m \u001b[0mnp\u001b[0m\u001b[0;34m.\u001b[0m\u001b[0mlinalg\u001b[0m\u001b[0;34m.\u001b[0m\u001b[0mpinv\u001b[0m\u001b[0;34m(\u001b[0m\u001b[0msw\u001b[0m\u001b[0;34m)\u001b[0m\u001b[0;34m.\u001b[0m\u001b[0mdot\u001b[0m\u001b[0;34m(\u001b[0m\u001b[0mdiff_means\u001b[0m\u001b[0;34m)\u001b[0m\u001b[0;34m\u001b[0m\u001b[0;34m\u001b[0m\u001b[0m\n\u001b[1;32m     27\u001b[0m         \u001b[0mX_t\u001b[0m \u001b[0;34m=\u001b[0m \u001b[0mself\u001b[0m\u001b[0;34m.\u001b[0m\u001b[0mtransform\u001b[0m\u001b[0;34m(\u001b[0m\u001b[0mX\u001b[0m\u001b[0;34m)\u001b[0m\u001b[0;34m\u001b[0m\u001b[0;34m\u001b[0m\u001b[0m\n\u001b[0;32m---> 28\u001b[0;31m         \u001b[0mself\u001b[0m\u001b[0;34m.\u001b[0m\u001b[0mfit_normal_dist\u001b[0m\u001b[0;34m(\u001b[0m\u001b[0mX\u001b[0m\u001b[0;34m,\u001b[0m \u001b[0my\u001b[0m\u001b[0;34m)\u001b[0m\u001b[0;34m\u001b[0m\u001b[0;34m\u001b[0m\u001b[0m\n\u001b[0m\u001b[1;32m     29\u001b[0m \u001b[0;34m\u001b[0m\u001b[0m\n\u001b[1;32m     30\u001b[0m     \u001b[0;32mdef\u001b[0m \u001b[0mfit_transform\u001b[0m\u001b[0;34m(\u001b[0m\u001b[0mself\u001b[0m\u001b[0;34m,\u001b[0m \u001b[0mX\u001b[0m\u001b[0;34m,\u001b[0m \u001b[0my\u001b[0m\u001b[0;34m)\u001b[0m\u001b[0;34m:\u001b[0m\u001b[0;34m\u001b[0m\u001b[0;34m\u001b[0m\u001b[0m\n",
      "\u001b[0;32m<ipython-input-3-8fc66f69e0a8>\u001b[0m in \u001b[0;36mfit_normal_dist\u001b[0;34m(self, X, y)\u001b[0m\n\u001b[1;32m     39\u001b[0m \u001b[0;34m\u001b[0m\u001b[0m\n\u001b[1;32m     40\u001b[0m     \u001b[0;32mdef\u001b[0m \u001b[0mfit_normal_dist\u001b[0m\u001b[0;34m(\u001b[0m\u001b[0mself\u001b[0m\u001b[0;34m,\u001b[0m \u001b[0mX\u001b[0m\u001b[0;34m,\u001b[0m \u001b[0my\u001b[0m\u001b[0;34m)\u001b[0m\u001b[0;34m:\u001b[0m\u001b[0;34m\u001b[0m\u001b[0;34m\u001b[0m\u001b[0m\n\u001b[0;32m---> 41\u001b[0;31m         \u001b[0mself\u001b[0m\u001b[0;34m.\u001b[0m\u001b[0mX_transformed0\u001b[0m \u001b[0;34m=\u001b[0m \u001b[0mX_transformed\u001b[0m\u001b[0;34m[\u001b[0m\u001b[0my\u001b[0m \u001b[0;34m==\u001b[0m \u001b[0;36m0\u001b[0m\u001b[0;34m]\u001b[0m\u001b[0;34m\u001b[0m\u001b[0;34m\u001b[0m\u001b[0m\n\u001b[0m\u001b[1;32m     42\u001b[0m         \u001b[0mself\u001b[0m\u001b[0;34m.\u001b[0m\u001b[0mX_transformed1\u001b[0m \u001b[0;34m=\u001b[0m \u001b[0mX_transformed\u001b[0m\u001b[0;34m[\u001b[0m\u001b[0my\u001b[0m \u001b[0;34m==\u001b[0m \u001b[0;36m1\u001b[0m\u001b[0;34m]\u001b[0m\u001b[0;34m\u001b[0m\u001b[0;34m\u001b[0m\u001b[0m\n\u001b[1;32m     43\u001b[0m \u001b[0;34m\u001b[0m\u001b[0m\n",
      "\u001b[0;31mNameError\u001b[0m: name 'X_transformed' is not defined"
     ]
    }
   ],
   "source": [
    "l = LDA()\n",
    "l.fit_transform(X, y)\n",
    "print(f'Accuracy is: {l.evaluate(X, y)}')"
   ]
  },
  {
   "cell_type": "code",
   "execution_count": null,
   "metadata": {},
   "outputs": [],
   "source": [
    "print(f'The discriminant vector in 1-D is {l.threshold} a single point.') # this is the discriminant vector(a single point) in 1-D"
   ]
  },
  {
   "cell_type": "code",
   "execution_count": null,
   "metadata": {},
   "outputs": [],
   "source": [
    "def normal_pdf(x, mu, var):\n",
    "    return (1 / np.sqrt(2 * np.pi * var)) * np.exp(-0.5 * ((x - mu)**2) / var)"
   ]
  },
  {
   "cell_type": "code",
   "execution_count": null,
   "metadata": {
    "scrolled": false
   },
   "outputs": [],
   "source": [
    "from matplotlib.lines import Line2D\n",
    "fig = plt.figure(figsize=(20, 10))\n",
    "plt.ylim(-.01, 0.15)\n",
    "\n",
    "lines = [Line2D([0], [0], color='red', linewidth=3, linestyle='-'),\n",
    "        Line2D([0], [0], color='blue', linewidth=3, linestyle='-')]\n",
    "labels = ['0', '1']\n",
    "plt.legend(lines, labels)\n",
    "\n",
    "plt.plot(l.X_transformed0, np.zeros_like(l.X_transformed0), 'x', color='red')\n",
    "plt.plot(l.X_transformed1, np.zeros_like(l.X_transformed1), 'o', color='blue')\n",
    "x_plot = np.linspace(-50, 50, 10000)\n",
    "y_0 = normal_pdf(x_plot, np.mean(l.X_transformed0), np.var(l.X_transformed0))\n",
    "y_1 = normal_pdf(x_plot, np.mean(l.X_transformed1), np.var(l.X_transformed1))\n",
    "plt.fill_between(x_plot, y_0, color='red', alpha=0.2)\n",
    "plt.fill_between(x_plot, y_1, color='blue', alpha=0.2)\n",
    "plt.plot([l.threshold for x in x_plot], x_plot, color='green')"
   ]
  },
  {
   "cell_type": "code",
   "execution_count": null,
   "metadata": {},
   "outputs": [],
   "source": [
    "fig = plt.figure(figsize=(20, 10))\n",
    "ax3D=fig.add_subplot(121, projection='3d')\n",
    "collection = ax3D.scatter(X[0], X[1], X[2], c=y, vmin=min(y), vmax=max(y),marker='o', cmap=cm.Spectral)\n",
    "\n",
    "ax3D.view_init(5, 130)\n",
    "\n",
    "transformation = l.w\n",
    "x_plot = np.linspace(-10,10,1000)\n",
    "y_plot = np.linspace(-3,3,1000)\n",
    "\n",
    "X_plot,Y_plot = np.meshgrid(x_plot,y_plot)\n",
    "Z_plot = (-transformation[0]*X_plot - transformation[1]*Y_plot + l.threshold) / transformation[2]\n",
    "\n",
    "ax3D.plot_surface(X_plot, Y_plot, Z_plot, alpha=0.2, color='green')\n",
    "\n",
    "lines = [Line2D([0], [0], color='red', linewidth=3, linestyle='-'),\n",
    "        Line2D([0], [0], color='blue', linewidth=3, linestyle='-')]\n",
    "labels = ['0', '1']\n",
    "plt.legend(lines, labels)"
   ]
  },
  {
   "cell_type": "code",
   "execution_count": null,
   "metadata": {},
   "outputs": [],
   "source": []
  }
 ],
 "metadata": {
  "kernelspec": {
   "display_name": "Python 3",
   "language": "python",
   "name": "python3"
  },
  "language_info": {
   "codemirror_mode": {
    "name": "ipython",
    "version": 3
   },
   "file_extension": ".py",
   "mimetype": "text/x-python",
   "name": "python",
   "nbconvert_exporter": "python",
   "pygments_lexer": "ipython3",
   "version": "3.7.9"
  }
 },
 "nbformat": 4,
 "nbformat_minor": 4
}
