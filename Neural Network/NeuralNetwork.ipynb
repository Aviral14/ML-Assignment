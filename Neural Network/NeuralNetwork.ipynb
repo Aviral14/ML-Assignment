{
 "cells": [
  {
   "cell_type": "markdown",
   "id": "5f2657de",
   "metadata": {},
   "source": [
    "# ML Assignment 2 : Neural Networks\n",
    "## Anirudh Agrawal: 2018A7PS0099H | Aviral Agrawal: 2018A70192H | Vikramjeet Das: 2018A7PS0280H"
   ]
  },
  {
   "cell_type": "code",
   "execution_count": 1,
   "id": "6676efd3",
   "metadata": {},
   "outputs": [],
   "source": [
    "import numpy as np\n",
    "import pandas as pd\n",
    "from ANN.Layers import Dense, Activation\n",
    "from ANN.Model import Model\n",
    "from tqdm.notebook import tqdm\n",
    "from matplotlib import pyplot as plt\n",
    "plt.style.use('dark_background')\n",
    "%matplotlib inline"
   ]
  },
  {
   "cell_type": "code",
   "execution_count": 2,
   "id": "048f43dc",
   "metadata": {},
   "outputs": [],
   "source": [
    "data = pd.read_csv('dataset_NN.csv')"
   ]
  },
  {
   "cell_type": "code",
   "execution_count": 3,
   "id": "b3abb509",
   "metadata": {},
   "outputs": [
    {
     "data": {
      "text/html": [
       "<div>\n",
       "<style scoped>\n",
       "    .dataframe tbody tr th:only-of-type {\n",
       "        vertical-align: middle;\n",
       "    }\n",
       "\n",
       "    .dataframe tbody tr th {\n",
       "        vertical-align: top;\n",
       "    }\n",
       "\n",
       "    .dataframe thead th {\n",
       "        text-align: right;\n",
       "    }\n",
       "</style>\n",
       "<table border=\"1\" class=\"dataframe\">\n",
       "  <thead>\n",
       "    <tr style=\"text-align: right;\">\n",
       "      <th></th>\n",
       "      <th>att1</th>\n",
       "      <th>att2</th>\n",
       "      <th>att3</th>\n",
       "      <th>att4</th>\n",
       "      <th>att5</th>\n",
       "      <th>att6</th>\n",
       "      <th>class</th>\n",
       "    </tr>\n",
       "  </thead>\n",
       "  <tbody>\n",
       "    <tr>\n",
       "      <th>0</th>\n",
       "      <td>1.0</td>\n",
       "      <td>0.0</td>\n",
       "      <td>0.0</td>\n",
       "      <td>133.150861</td>\n",
       "      <td>1.311693</td>\n",
       "      <td>1620.221779</td>\n",
       "      <td>1</td>\n",
       "    </tr>\n",
       "    <tr>\n",
       "      <th>1</th>\n",
       "      <td>1.0</td>\n",
       "      <td>0.0</td>\n",
       "      <td>0.0</td>\n",
       "      <td>126.724861</td>\n",
       "      <td>1.302745</td>\n",
       "      <td>1609.334822</td>\n",
       "      <td>1</td>\n",
       "    </tr>\n",
       "    <tr>\n",
       "      <th>2</th>\n",
       "      <td>1.0</td>\n",
       "      <td>0.0</td>\n",
       "      <td>0.0</td>\n",
       "      <td>131.173861</td>\n",
       "      <td>1.319031</td>\n",
       "      <td>1568.978435</td>\n",
       "      <td>1</td>\n",
       "    </tr>\n",
       "    <tr>\n",
       "      <th>3</th>\n",
       "      <td>1.0</td>\n",
       "      <td>0.0</td>\n",
       "      <td>0.0</td>\n",
       "      <td>129.478861</td>\n",
       "      <td>1.270878</td>\n",
       "      <td>1695.055281</td>\n",
       "      <td>1</td>\n",
       "    </tr>\n",
       "    <tr>\n",
       "      <th>4</th>\n",
       "      <td>1.0</td>\n",
       "      <td>0.0</td>\n",
       "      <td>0.0</td>\n",
       "      <td>127.262861</td>\n",
       "      <td>1.329637</td>\n",
       "      <td>1647.720235</td>\n",
       "      <td>1</td>\n",
       "    </tr>\n",
       "  </tbody>\n",
       "</table>\n",
       "</div>"
      ],
      "text/plain": [
       "   att1  att2  att3        att4      att5         att6  class\n",
       "0   1.0   0.0   0.0  133.150861  1.311693  1620.221779      1\n",
       "1   1.0   0.0   0.0  126.724861  1.302745  1609.334822      1\n",
       "2   1.0   0.0   0.0  131.173861  1.319031  1568.978435      1\n",
       "3   1.0   0.0   0.0  129.478861  1.270878  1695.055281      1\n",
       "4   1.0   0.0   0.0  127.262861  1.329637  1647.720235      1"
      ]
     },
     "execution_count": 3,
     "metadata": {},
     "output_type": "execute_result"
    }
   ],
   "source": [
    "data.head()"
   ]
  },
  {
   "cell_type": "code",
   "execution_count": 4,
   "id": "d9d8e937",
   "metadata": {},
   "outputs": [],
   "source": [
    "def shuffle(X, y):\n",
    "    '''\n",
    "        Shuffles rows of a dataframe and returns shuffled dataframe\n",
    "    '''\n",
    "    permute = np.random.permutation(len(X))\n",
    "    return X[permute], y[permute]"
   ]
  },
  {
   "cell_type": "code",
   "execution_count": 5,
   "id": "c8253f8e",
   "metadata": {},
   "outputs": [],
   "source": [
    "class MinMaxScaler():\n",
    "    '''\n",
    "        Class to normalize a pandas dataframe\n",
    "    '''\n",
    "    def fit(self, X):\n",
    "        self.X = X\n",
    "        self.min = X.min(axis = 0)\n",
    "        self.max = X.max(axis = 0)\n",
    "        \n",
    "    def fit_transform(self, X):\n",
    "        self.X = X\n",
    "        self.fit(X)\n",
    "        return self.transform(X)\n",
    "    \n",
    "    def transform(self, X):\n",
    "        if (isinstance(X, np.ndarray)):\n",
    "            return ((X - np.array(self.min)) / (np.array(self.max) - np.array(self.min)))\n",
    "        return (X - self.min) / (self.max - self.min)\n",
    "        \n",
    "    def get_params():\n",
    "        return self.min, self.max"
   ]
  },
  {
   "cell_type": "code",
   "execution_count": 6,
   "id": "2418c39c",
   "metadata": {},
   "outputs": [],
   "source": [
    "def train_test_split(X, y, test_size=0.3):\n",
    "    '''\n",
    "        Splits data into train-test split\n",
    "            \n",
    "            Parameters:\n",
    "                X : Features\n",
    "                y : Labels\n",
    "                test_size : Fraction of data to use for test set\n",
    "            \n",
    "            Returns:\n",
    "                (X_train, y_train, X_test, y_test) : Train test split\n",
    "    '''\n",
    "    if not isinstance(X, np.ndarray):\n",
    "        X = np.array(X)\n",
    "    if not isinstance(y, np.ndarray):\n",
    "        y = np.array(y)\n",
    "        \n",
    "    X, y = shuffle(X, y)\n",
    "        \n",
    "    test_indices = np.random.rand(X.shape[0]) < test_size\n",
    "    return X[~test_indices], y[~test_indices], X[test_indices], y[test_indices]"
   ]
  },
  {
   "cell_type": "code",
   "execution_count": 7,
   "id": "4c0fe87f",
   "metadata": {},
   "outputs": [],
   "source": [
    "X = data[['att1', 'att2', 'att3', 'att4', 'att5', 'att6']]\n",
    "y = data['class']\n",
    "y -= 1\n",
    "X_train, y_train, X_test, y_test = train_test_split(X, y)\n",
    "scaler = MinMaxScaler()\n",
    "X_train = np.array(scaler.fit_transform(X_train))\n",
    "X_test = np.array(scaler.transform(X_test))"
   ]
  },
  {
   "cell_type": "code",
   "execution_count": 11,
   "id": "a3d942ed",
   "metadata": {},
   "outputs": [],
   "source": [
    "def plot(history):\n",
    "    fig, ax1 = plt.subplots()\n",
    "\n",
    "    color = 'fuchsia'\n",
    "    ax1.set_xlabel('Epochs')\n",
    "    ax1.set_ylabel('Loss', color=color)\n",
    "    ax1.plot(history['loss'], color=color)\n",
    "    ax1.tick_params(axis='y', labelcolor=color)\n",
    "\n",
    "    ax2 = ax1.twinx()\n",
    "\n",
    "    color = 'blue'\n",
    "    ax2.set_ylabel('Accuracy (%)', color=color)\n",
    "    ax2.plot(history['accuracy'], color=color)\n",
    "    ax2.tick_params(axis='y', labelcolor=color)\n",
    "\n",
    "    fig.tight_layout()\n",
    "    plt.show()"
   ]
  },
  {
   "cell_type": "markdown",
   "id": "04b128df",
   "metadata": {},
   "source": [
    "# One layer"
   ]
  },
  {
   "cell_type": "code",
   "execution_count": 12,
   "id": "566bbf67",
   "metadata": {
    "tags": []
   },
   "outputs": [
    {
     "data": {
      "application/vnd.jupyter.widget-view+json": {
       "model_id": "9fa55d834f3f4ac1aa75098267666d07",
       "version_major": 2,
       "version_minor": 0
      },
      "text/plain": [
       "  0%|          | 0/5000 [00:00<?, ?it/s]"
      ]
     },
     "metadata": {},
     "output_type": "display_data"
    },
    {
     "name": "stdout",
     "output_type": "stream",
     "text": [
      "Test set accuracy: 0.7159468438538206; Test set loss: 0.020122191354991176\n"
     ]
    },
    {
     "data": {
      "image/png": "[encoded data removed]",
      "text/plain": [
       "<Figure size 432x288 with 2 Axes>"
      ]
     },
     "metadata": {
      "needs_background": "light"
     },
     "output_type": "display_data"
    }
   ],
   "source": [
    "net = Model('categorical_crossentropy')\n",
    "net.add(Dense(6, 20))\n",
    "net.add(Activation('relu'))\n",
    "net.add(Dense(20, 10))\n",
    "\n",
    "history = net.fit(X_train, y_train, epochs=5000, lr=0.1)\n",
    "test_metrics = net.evaluate(X_test, y_test)\n",
    "print(f'Test set accuracy: {test_metrics[0]}; Test set loss: {test_metrics[1]}')\n",
    "plot(history)"
   ]
  },
  {
   "cell_type": "code",
   "execution_count": 13,
   "id": "63f1e89e",
   "metadata": {},
   "outputs": [
    {
     "data": {
      "application/vnd.jupyter.widget-view+json": {
       "model_id": "df27ca4a96594682831d748ca6ed8abf",
       "version_major": 2,
       "version_minor": 0
      },
      "text/plain": [
       "  0%|          | 0/5000 [00:00<?, ?it/s]"
      ]
     },
     "metadata": {},
     "output_type": "display_data"
    },
    {
     "name": "stdout",
     "output_type": "stream",
     "text": [
      "Test set accuracy: 0.729235880398671; Test set loss: 0.019605434182408264\n"
     ]
    },
    {
     "data": {
      "image/png": "[encoded data removed]",
      "text/plain": [
       "<Figure size 432x288 with 2 Axes>"
      ]
     },
     "metadata": {
      "needs_background": "light"
     },
     "output_type": "display_data"
    }
   ],
   "source": [
    "net = Model('categorical_crossentropy')\n",
    "net.add(Dense(6, 20))\n",
    "net.add(Activation('relu'))\n",
    "net.add(Dense(20, 10))\n",
    "\n",
    "history = net.fit(X_train, y_train, epochs=5000, lr=0.01)\n",
    "test_metrics = net.evaluate(X_test, y_test)\n",
    "print(f'Test set accuracy: {test_metrics[0]}; Test set loss: {test_metrics[1]}')\n",
    "plot(history)"
   ]
  },
  {
   "cell_type": "code",
   "execution_count": 14,
   "id": "8e8d89c2",
   "metadata": {},
   "outputs": [
    {
     "data": {
      "application/vnd.jupyter.widget-view+json": {
       "model_id": "671ab655fb344ee4bc145973d1b28fda",
       "version_major": 2,
       "version_minor": 0
      },
      "text/plain": [
       "  0%|          | 0/5000 [00:00<?, ?it/s]"
      ]
     },
     "metadata": {},
     "output_type": "display_data"
    },
    {
     "name": "stdout",
     "output_type": "stream",
     "text": [
      "Test set accuracy: 0.6694352159468439; Test set loss: 0.026909545888980833\n"
     ]
    },
    {
     "data": {
      "image/png": "[encoded data removed]",
      "text/plain": [
       "<Figure size 432x288 with 2 Axes>"
      ]
     },
     "metadata": {
      "needs_background": "light"
     },
     "output_type": "display_data"
    }
   ],
   "source": [
    "net = Model('categorical_crossentropy')\n",
    "net.add(Dense(6, 20))\n",
    "net.add(Activation('relu'))\n",
    "net.add(Dense(20, 10))\n",
    "\n",
    "history = net.fit(X_train, y_train, epochs=5000, lr=0.001)\n",
    "test_metrics = net.evaluate(X_test, y_test)\n",
    "print(f'Test set accuracy: {test_metrics[0]}; Test set loss: {test_metrics[1]}')\n",
    "plot(history)"
   ]
  },
  {
   "cell_type": "code",
   "execution_count": 15,
   "id": "ee8e64a3",
   "metadata": {
    "tags": []
   },
   "outputs": [
    {
     "data": {
      "application/vnd.jupyter.widget-view+json": {
       "model_id": "d2633c9cf04341a0a9394cee01816a67",
       "version_major": 2,
       "version_minor": 0
      },
      "text/plain": [
       "  0%|          | 0/5000 [00:00<?, ?it/s]"
      ]
     },
     "metadata": {},
     "output_type": "display_data"
    },
    {
     "name": "stdout",
     "output_type": "stream",
     "text": [
      "Test set accuracy: 0.6993355481727574; Test set loss: 0.021325707996599424\n"
     ]
    },
    {
     "data": {
      "image/png": "[encoded data removed]",
      "text/plain": [
       "<Figure size 432x288 with 2 Axes>"
      ]
     },
     "metadata": {
      "needs_background": "light"
     },
     "output_type": "display_data"
    }
   ],
   "source": [
    "net = Model('categorical_crossentropy')\n",
    "net.add(Dense(6, 20))\n",
    "net.add(Activation('relu'))\n",
    "net.add(Dense(20, 20))\n",
    "net.add(Activation('relu'))\n",
    "net.add(Dense(20, 10))\n",
    "\n",
    "history = net.fit(X_train, y_train, epochs=5000, lr=0.1)\n",
    "test_metrics = net.evaluate(X_test, y_test)\n",
    "print(f'Test set accuracy: {test_metrics[0]}; Test set loss: {test_metrics[1]}')\n",
    "plot(history)"
   ]
  },
  {
   "cell_type": "code",
   "execution_count": 16,
   "id": "133db840",
   "metadata": {},
   "outputs": [
    {
     "data": {
      "application/vnd.jupyter.widget-view+json": {
       "model_id": "b2157d206e344aac902c149a1a7b274e",
       "version_major": 2,
       "version_minor": 0
      },
      "text/plain": [
       "  0%|          | 0/5000 [00:00<?, ?it/s]"
      ]
     },
     "metadata": {},
     "output_type": "display_data"
    },
    {
     "name": "stdout",
     "output_type": "stream",
     "text": [
      "Test set accuracy: 0.729235880398671; Test set loss: 0.01934087763888898\n"
     ]
    },
    {
     "data": {
      "image/png": "[encoded data removed]",
      "text/plain": [
       "<Figure size 432x288 with 2 Axes>"
      ]
     },
     "metadata": {
      "needs_background": "light"
     },
     "output_type": "display_data"
    }
   ],
   "source": [
    "net = Model('categorical_crossentropy')\n",
    "net.add(Dense(6, 20))\n",
    "net.add(Activation('relu'))\n",
    "net.add(Dense(20, 20))\n",
    "net.add(Activation('relu'))\n",
    "net.add(Dense(20, 10))\n",
    "\n",
    "history = net.fit(X_train, y_train, epochs=5000, lr=0.01)\n",
    "test_metrics = net.evaluate(X_test, y_test)\n",
    "print(f'Test set accuracy: {test_metrics[0]}; Test set loss: {test_metrics[1]}')\n",
    "plot(history)"
   ]
  },
  {
   "cell_type": "code",
   "execution_count": 17,
   "id": "1e068571",
   "metadata": {},
   "outputs": [
    {
     "data": {
      "application/vnd.jupyter.widget-view+json": {
       "model_id": "79ca50c98a6047d0a79b91cd1f57f370",
       "version_major": 2,
       "version_minor": 0
      },
      "text/plain": [
       "  0%|          | 0/10000 [00:00<?, ?it/s]"
      ]
     },
     "metadata": {},
     "output_type": "display_data"
    },
    {
     "name": "stdout",
     "output_type": "stream",
     "text": [
      "Test set accuracy: 0.5481727574750831; Test set loss: 0.03236785104642268\n"
     ]
    },
    {
     "data": {
      "image/png": "[encoded data removed]",
      "text/plain": [
       "<Figure size 432x288 with 2 Axes>"
      ]
     },
     "metadata": {
      "needs_background": "light"
     },
     "output_type": "display_data"
    }
   ],
   "source": [
    "net = Model('categorical_crossentropy')\n",
    "net.add(Dense(6, 20))\n",
    "net.add(Activation('relu'))\n",
    "net.add(Dense(20, 20))\n",
    "net.add(Activation('relu'))\n",
    "net.add(Dense(20, 10))\n",
    "\n",
    "history = net.fit(X_train, y_train, epochs=10000, lr=0.001)\n",
    "test_metrics = net.evaluate(X_test, y_test)\n",
    "print(f'Test set accuracy: {test_metrics[0]}; Test set loss: {test_metrics[1]}')\n",
    "plot(history)"
   ]
  },
  {
   "cell_type": "code",
   "execution_count": null,
   "id": "7679c672",
   "metadata": {},
   "outputs": [],
   "source": []
  },
  {
   "cell_type": "code",
   "execution_count": null,
   "id": "19256805",
   "metadata": {},
   "outputs": [],
   "source": []
  }
 ],
 "metadata": {
  "kernelspec": {
   "display_name": "Python 3",
   "language": "python",
   "name": "python3"
  },
  "language_info": {
   "codemirror_mode": {
    "name": "ipython",
    "version": 3
   },
   "file_extension": ".py",
   "mimetype": "text/x-python",
   "name": "python",
   "nbconvert_exporter": "python",
   "pygments_lexer": "ipython3",
   "version": "3.7.10"
  }
 },
 "nbformat": 4,
 "nbformat_minor": 5
}
