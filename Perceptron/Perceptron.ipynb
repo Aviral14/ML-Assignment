{
 "cells": [
  {
   "cell_type": "markdown",
   "id": "chicken-behalf",
   "metadata": {},
   "source": [
    "# ML Assignment 1 : Perceptron\n",
    "### Anirudh Agrawal: 2018A7PS0099H | Aviral Agarwal: 2018A7PS0192H | Vikramjeet Das: 2018A7PS0280H"
   ]
  },
  {
   "cell_type": "code",
   "execution_count": null,
   "id": "organized-settlement",
   "metadata": {},
   "outputs": [],
   "source": [
    "import numpy as np\n",
    "import pandas as pd\n",
    "from matplotlib import pyplot as plt\n",
    "from tqdm.notebook import tqdm\n",
    "\n",
    "%matplotlib inline"
   ]
  },
  {
   "cell_type": "code",
   "execution_count": 2,
   "id": "labeled-handy",
   "metadata": {},
   "outputs": [],
   "source": [
    "ds1 = pd.read_csv('dataset_LP_1.txt', header=None)\n",
    "ds2 = pd.read_csv('dataset_LP_2.csv', header=None)\n",
    "X1 = ds1[[0,1,2,3]]\n",
    "y1 = ds1[4]\n",
    "X2 = ds2[[0,1,2]]\n",
    "y2 = ds2[3]"
   ]
  },
  {
   "cell_type": "code",
   "execution_count": 3,
   "id": "atlantic-collection",
   "metadata": {},
   "outputs": [],
   "source": [
    "def shuffle(X, y):\n",
    "    '''\n",
    "        Shuffles rows of a dataframe and returns shuffled dataframe\n",
    "    '''\n",
    "    permute = np.random.permutation(len(X))\n",
    "    return X[permute], y[permute]\n",
    "\n",
    "def train_test_split(X, y, test_size=0.3):\n",
    "    '''\n",
    "        Splits data into train-test split\n",
    "            \n",
    "            Parameters:\n",
    "                X : Features\n",
    "                y : Labels\n",
    "                test_size : Fraction of data to use for test set\n",
    "            \n",
    "            Returns:\n",
    "                (X_train, y_train, X_test, y_test) : Train test split\n",
    "    '''\n",
    "    if not isinstance(X, np.ndarray):\n",
    "        X = np.array(X)\n",
    "    if not isinstance(y, np.ndarray):\n",
    "        y = np.array(y)\n",
    "        \n",
    "    X, y = shuffle(X, y)\n",
    "        \n",
    "    test_indices = np.random.rand(X.shape[0]) < test_size\n",
    "    return X[~test_indices], y[~test_indices], X[test_indices], y[test_indices]"
   ]
  },
  {
   "cell_type": "code",
   "execution_count": 4,
   "id": "heated-closing",
   "metadata": {},
   "outputs": [],
   "source": [
    "X_train1, y_train1, X_test1, y_test1 = train_test_split(X1, y1)\n",
    "X_train2, y_train2, X_test2, y_test2 = train_test_split(X2, y2)"
   ]
  },
  {
   "cell_type": "code",
   "execution_count": 5,
   "id": "organizational-grammar",
   "metadata": {},
   "outputs": [],
   "source": [
    "class Perceptron:\n",
    "    def __init__(self, include_bias=True, tol=10e-3):\n",
    "        self.include_bias = include_bias\n",
    "        self.tol = tol\n",
    "        \n",
    "    def train(self, X, y, lr=1, max_epochs=10000, min_epochs=2000):\n",
    "        assert X.shape[0] == y.shape[0], 'Data and target count do not match'\n",
    "        assert len(np.unique(y)) == 2, 'Targets cannot have more than 2 classes'\n",
    "        self.misclassifications = [] # For plotting purposes\n",
    "        \n",
    "        # Add bias term if not included\n",
    "        if self.include_bias:\n",
    "            X = np.concatenate((X, np.ones((X.shape[0], 1))), axis=1)\n",
    "        # Initialize weights\n",
    "        self.weights = np.zeros((X.shape[1],))\n",
    "        \n",
    "        # To generalize to labels beyond -1/1\n",
    "        # Can also accept 0/1 (or any other binary label) \n",
    "        # with the same expressions\n",
    "        self.neg_value = np.min(y)\n",
    "        self.pos_value = np.max(y)\n",
    "        \n",
    "        # Train and plot\n",
    "        self.__sgd(X, y, lr, max_epochs, min_epochs)\n",
    "        plt.plot(range(len(self.misclassifications)), self.misclassifications)\n",
    "        \n",
    "    def __sgd(self, X, y, lr, max_epochs, min_epochs):\n",
    "        # For all epochs\n",
    "        for epoch in tqdm(range(max_epochs)):\n",
    "            n_misclassified = 0\n",
    "            # For all examples in dataset\n",
    "            for row, target in zip(X, y):\n",
    "                # Predict class of data point\n",
    "                pred = self.__predict(row)\n",
    "                n_misclassified += not (pred == target)\n",
    "                # Sign is 0 is correct prediction, +1 if false negative, -1 if false positive\n",
    "                misclassified = 0 if (pred == target) else (1 if target == self.pos_value else -1)\n",
    "                self.weights += lr * misclassified * row # Add obs if false negative, subtract if false positive\n",
    "            \n",
    "            self.misclassifications.append(n_misclassified)\n",
    "            \n",
    "            # Improvement from the average over last 10 epochs is less than tol and at least after 2000 epochs\n",
    "            if (sum(self.misclassifications[-11:-1])/(10 * len(X)) - (n_misclassified / len(X)) < self.tol and epoch > min_epochs):\n",
    "                break\n",
    "            \n",
    "    def __get_class(self, x):\n",
    "        return self.pos_value if x > 0 else self.neg_value\n",
    "        \n",
    "    def __predict(self, X):\n",
    "        y = np.dot(X, self.weights)\n",
    "        return self.__get_class(y)\n",
    "    \n",
    "    def predict(self, X):\n",
    "        if self.include_bias:\n",
    "            X = np.concatenate((X, np.ones((X.shape[0], 1))), axis=1)\n",
    "        y = np.dot(X, self.weights)\n",
    "        return np.array(list(map(self.__get_class, y))).reshape(y.shape)\n",
    "    \n",
    "    def evaluate(self, X, y):\n",
    "        preds = self.predict(X)\n",
    "        return np.sum(preds == y) / len(X)"
   ]
  },
  {
   "cell_type": "code",
   "execution_count": 6,
   "id": "waiting-ethnic",
   "metadata": {},
   "outputs": [
    {
     "data": {
      "application/vnd.jupyter.widget-view+json": {
       "model_id": "a1fdaf7ec4844410a1c6d7f40ec5a8f4",
       "version_major": 2,
       "version_minor": 0
      },
      "text/plain": [
       "  0%|          | 0/10000 [00:00<?, ?it/s]"
      ]
     },
     "metadata": {},
     "output_type": "display_data"
    },
    {
     "name": "stdout",
     "output_type": "stream",
     "text": [
      "0.9845360824742269\n"
     ]
    },
    {
     "data": {
      "image/png": "[encoded data removed]",
      "text/plain": [
       "<Figure size 432x288 with 1 Axes>"
      ]
     },
     "metadata": {
      "needs_background": "light"
     },
     "output_type": "display_data"
    }
   ],
   "source": [
    "p1 = Perceptron()\n",
    "p1.train(X_train1, y_train1)\n",
    "print(p1.evaluate(X_test1, y_test1))"
   ]
  },
  {
   "cell_type": "code",
   "execution_count": 7,
   "id": "speaking-eleven",
   "metadata": {},
   "outputs": [
    {
     "data": {
      "application/vnd.jupyter.widget-view+json": {
       "model_id": "2b1e1bbf2aaf4a7d989168c04463df4d",
       "version_major": 2,
       "version_minor": 0
      },
      "text/plain": [
       "  0%|          | 0/10000 [00:00<?, ?it/s]"
      ]
     },
     "metadata": {},
     "output_type": "display_data"
    },
    {
     "name": "stdout",
     "output_type": "stream",
     "text": [
      "1.0\n"
     ]
    },
    {
     "data": {
      "image/png": "[encoded data removed]",
      "text/plain": [
       "<Figure size 432x288 with 1 Axes>"
      ]
     },
     "metadata": {
      "needs_background": "light"
     },
     "output_type": "display_data"
    }
   ],
   "source": [
    "p2 = Perceptron()\n",
    "p2.train(X_train2, y_train2)\n",
    "print(p2.evaluate(X_test2, y_test2))"
   ]
  }
 ],
 "metadata": {
  "kernelspec": {
   "display_name": "Python 3",
   "language": "python",
   "name": "python3"
  },
  "language_info": {
   "codemirror_mode": {
    "name": "ipython",
    "version": 3
   },
   "file_extension": ".py",
   "mimetype": "text/x-python",
   "name": "python",
   "nbconvert_exporter": "python",
   "pygments_lexer": "ipython3",
   "version": "3.7.9"
  }
 },
 "nbformat": 4,
 "nbformat_minor": 5
}
