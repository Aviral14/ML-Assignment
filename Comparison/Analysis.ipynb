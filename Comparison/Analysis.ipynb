{
 "cells": [
  {
   "cell_type": "code",
   "execution_count": 1,
   "id": "74305e4b",
   "metadata": {},
   "outputs": [],
   "source": [
    "import numpy as np\n",
    "import pandas as pd\n",
    "\n",
    "import sklearn\n",
    "from sklearn.preprocessing import MinMaxScaler\n",
    "from sklearn.model_selection import KFold\n",
    "\n",
    "from sklearn.discriminant_analysis import LinearDiscriminantAnalysis\n",
    "from sklearn.linear_model import Perceptron\n",
    "from sklearn.naive_bayes import GaussianNB\n",
    "from sklearn.linear_model import LogisticRegression\n",
    "from sklearn.neural_network import MLPClassifier\n",
    "from sklearn.svm import SVC\n",
    "\n",
    "from matplotlib import pyplot as plt\n",
    "plt.style.use('dark_background')"
   ]
  },
  {
   "cell_type": "code",
   "execution_count": 2,
   "id": "60ade20e",
   "metadata": {},
   "outputs": [],
   "source": [
    "data = pd.read_csv('dataset_comb.csv')\n",
    "data.head()\n",
    "X = np.array(data[['Area','MajorAxisLength', 'MinorAxisLength', 'Eccentricity', 'ConvexArea', 'EquivDiameter',  'Extent', 'Perimeter', 'Roundness', 'AspectRation']])\n",
    "y = np.array(data['Class'])"
   ]
  },
  {
   "cell_type": "code",
   "execution_count": 3,
   "id": "9fe9f97e",
   "metadata": {},
   "outputs": [],
   "source": [
    "def train_evaluate(model):\n",
    "    train_accs = []\n",
    "    test_accs = []\n",
    "    kf = KFold(n_splits=7, shuffle=True, random_state=2021)\n",
    "    for train_index, test_index in kf.split(X):\n",
    "        X_train, X_test = X[train_index], X[test_index]\n",
    "        y_train, y_test = y[train_index], y[test_index]\n",
    "        scaler = MinMaxScaler()\n",
    "        X_train = scaler.fit_transform(X_train)\n",
    "        X_test = scaler.transform(X_test)\n",
    "        model.fit(X_train, y_train)\n",
    "        train_accs.append(model.score(X_train, y_train))\n",
    "        test_accs.append(model.score(X_test, y_test))\n",
    "        \n",
    "    return train_accs, test_accs"
   ]
  },
  {
   "cell_type": "code",
   "execution_count": 4,
   "id": "34b39e86",
   "metadata": {},
   "outputs": [
    {
     "name": "stdout",
     "output_type": "stream",
     "text": [
      "Train accurracy: 0.9867473165246328; Test accuracy: 0.9866371627864059\n"
     ]
    }
   ],
   "source": [
    "linear_disc = LinearDiscriminantAnalysis()\n",
    "linear_disc_scores_tr, linear_disc_scores_test = train_evaluate(linear_disc)\n",
    "print(f'Train accurracy: {np.mean(linear_disc_scores_tr)}; Test accuracy: {np.mean(linear_disc_scores_test)}')"
   ]
  },
  {
   "cell_type": "code",
   "execution_count": 5,
   "id": "f3085ab7",
   "metadata": {},
   "outputs": [
    {
     "name": "stdout",
     "output_type": "stream",
     "text": [
      "Train accurracy: 0.9774447201773091; Test accuracy: 0.9772891434046026\n"
     ]
    }
   ],
   "source": [
    "perceptron = Perceptron()\n",
    "perceptron_scores_tr, perceptron_scores_test = train_evaluate(perceptron)\n",
    "print(f'Train accurracy: {np.mean(perceptron_scores_tr)}; Test accuracy: {np.mean(perceptron_scores_test)}')"
   ]
  },
  {
   "cell_type": "code",
   "execution_count": 6,
   "id": "63dbb5a9",
   "metadata": {},
   "outputs": [
    {
     "name": "stdout",
     "output_type": "stream",
     "text": [
      "Train accurracy: 0.9836495251352126; Test accuracy: 0.9837226848683487\n"
     ]
    }
   ],
   "source": [
    "nb = GaussianNB()\n",
    "nb_scores_tr, nb_scores_test = train_evaluate(nb)\n",
    "print(f'Train accurracy: {np.mean(nb_scores_tr)}; Test accuracy: {np.mean(nb_scores_test)}')"
   ]
  },
  {
   "cell_type": "code",
   "execution_count": 7,
   "id": "d176688b",
   "metadata": {},
   "outputs": [
    {
     "name": "stdout",
     "output_type": "stream",
     "text": [
      "Train accurracy: 0.9870314325470374; Test accuracy: 0.9869671504240971\n"
     ]
    }
   ],
   "source": [
    "lr = LogisticRegression()\n",
    "lr_scores_tr, lr_scores_test = train_evaluate(lr)\n",
    "print(f'Train accurracy: {np.mean(lr_scores_tr)}; Test accuracy: {np.mean(lr_scores_test)}')"
   ]
  },
  {
   "cell_type": "code",
   "execution_count": 8,
   "id": "e0aa1d53",
   "metadata": {},
   "outputs": [
    {
     "name": "stdout",
     "output_type": "stream",
     "text": [
      "Train accurracy: 0.9885619903046858; Test accuracy: 0.989496674524967\n"
     ]
    }
   ],
   "source": [
    "ann = MLPClassifier(alpha=0.02, max_iter=10000)\n",
    "ann_scores_tr, ann_scores_test = train_evaluate(ann)\n",
    "print(f'Train accurracy: {np.mean(ann_scores_tr)}; Test accuracy: {np.mean(ann_scores_test)}')"
   ]
  },
  {
   "cell_type": "code",
   "execution_count": 9,
   "id": "2ce0c4b4",
   "metadata": {},
   "outputs": [
    {
     "name": "stdout",
     "output_type": "stream",
     "text": [
      "Train accurracy: 0.9898726021784691; Test accuracy: 0.9896616154102807\n"
     ]
    }
   ],
   "source": [
    "svc = SVC()\n",
    "svc_scores_tr, svc_scores_test = train_evaluate(svc)\n",
    "print(f'Train accurracy: {np.mean(svc_scores_tr)}; Test accuracy: {np.mean(svc_scores_test)}')"
   ]
  },
  {
   "cell_type": "code",
   "execution_count": 10,
   "id": "9395b1ab",
   "metadata": {},
   "outputs": [
    {
     "ename": "NameError",
     "evalue": "name 'linear_disc_scores' is not defined",
     "output_type": "error",
     "traceback": [
      "\u001b[0;31m---------------------------------------------------------------------------\u001b[0m",
      "\u001b[0;31mNameError\u001b[0m                                 Traceback (most recent call last)",
      "\u001b[0;32m<ipython-input-10-f06f7baea4fc>\u001b[0m in \u001b[0;36m<module>\u001b[0;34m\u001b[0m\n\u001b[1;32m      1\u001b[0m \u001b[0mfig\u001b[0m\u001b[0;34m,\u001b[0m \u001b[0maxs\u001b[0m \u001b[0;34m=\u001b[0m \u001b[0mplt\u001b[0m\u001b[0;34m.\u001b[0m\u001b[0msubplots\u001b[0m\u001b[0;34m(\u001b[0m\u001b[0;36m2\u001b[0m\u001b[0;34m,\u001b[0m \u001b[0;36m3\u001b[0m\u001b[0;34m,\u001b[0m \u001b[0mfigsize\u001b[0m\u001b[0;34m=\u001b[0m\u001b[0;34m(\u001b[0m\u001b[0;36m20\u001b[0m\u001b[0;34m,\u001b[0m \u001b[0;36m10\u001b[0m\u001b[0;34m)\u001b[0m\u001b[0;34m)\u001b[0m\u001b[0;34m\u001b[0m\u001b[0;34m\u001b[0m\u001b[0m\n\u001b[1;32m      2\u001b[0m \u001b[0mfig\u001b[0m\u001b[0;34m.\u001b[0m\u001b[0msuptitle\u001b[0m\u001b[0;34m(\u001b[0m\u001b[0;34m'Accuracy boxplots for all 6 methods'\u001b[0m\u001b[0;34m)\u001b[0m\u001b[0;34m\u001b[0m\u001b[0;34m\u001b[0m\u001b[0m\n\u001b[0;32m----> 3\u001b[0;31m \u001b[0maxs\u001b[0m\u001b[0;34m[\u001b[0m\u001b[0;36m0\u001b[0m\u001b[0;34m,\u001b[0m \u001b[0;36m0\u001b[0m\u001b[0;34m]\u001b[0m\u001b[0;34m.\u001b[0m\u001b[0mboxplot\u001b[0m\u001b[0;34m(\u001b[0m\u001b[0mlinear_disc_scores\u001b[0m\u001b[0;34m,\u001b[0m \u001b[0mflierprops\u001b[0m\u001b[0;34m=\u001b[0m\u001b[0mdict\u001b[0m\u001b[0;34m(\u001b[0m\u001b[0mmarkerfacecolor\u001b[0m\u001b[0;34m=\u001b[0m\u001b[0;34m'r'\u001b[0m\u001b[0;34m,\u001b[0m \u001b[0mmarker\u001b[0m\u001b[0;34m=\u001b[0m\u001b[0;34m's'\u001b[0m\u001b[0;34m)\u001b[0m\u001b[0;34m)\u001b[0m\u001b[0;34m\u001b[0m\u001b[0;34m\u001b[0m\u001b[0m\n\u001b[0m\u001b[1;32m      4\u001b[0m \u001b[0maxs\u001b[0m\u001b[0;34m[\u001b[0m\u001b[0;36m0\u001b[0m\u001b[0;34m,\u001b[0m \u001b[0;36m1\u001b[0m\u001b[0;34m]\u001b[0m\u001b[0;34m.\u001b[0m\u001b[0mboxplot\u001b[0m\u001b[0;34m(\u001b[0m\u001b[0mperceptron_scores\u001b[0m\u001b[0;34m,\u001b[0m \u001b[0mflierprops\u001b[0m\u001b[0;34m=\u001b[0m\u001b[0mdict\u001b[0m\u001b[0;34m(\u001b[0m\u001b[0mmarkerfacecolor\u001b[0m\u001b[0;34m=\u001b[0m\u001b[0;34m'r'\u001b[0m\u001b[0;34m,\u001b[0m \u001b[0mmarker\u001b[0m\u001b[0;34m=\u001b[0m\u001b[0;34m's'\u001b[0m\u001b[0;34m)\u001b[0m\u001b[0;34m)\u001b[0m\u001b[0;34m\u001b[0m\u001b[0;34m\u001b[0m\u001b[0m\n\u001b[1;32m      5\u001b[0m \u001b[0maxs\u001b[0m\u001b[0;34m[\u001b[0m\u001b[0;36m0\u001b[0m\u001b[0;34m,\u001b[0m \u001b[0;36m2\u001b[0m\u001b[0;34m]\u001b[0m\u001b[0;34m.\u001b[0m\u001b[0mboxplot\u001b[0m\u001b[0;34m(\u001b[0m\u001b[0mnb_scores\u001b[0m\u001b[0;34m,\u001b[0m \u001b[0mflierprops\u001b[0m\u001b[0;34m=\u001b[0m\u001b[0mdict\u001b[0m\u001b[0;34m(\u001b[0m\u001b[0mmarkerfacecolor\u001b[0m\u001b[0;34m=\u001b[0m\u001b[0;34m'r'\u001b[0m\u001b[0;34m,\u001b[0m \u001b[0mmarker\u001b[0m\u001b[0;34m=\u001b[0m\u001b[0;34m's'\u001b[0m\u001b[0;34m)\u001b[0m\u001b[0;34m)\u001b[0m\u001b[0;34m\u001b[0m\u001b[0;34m\u001b[0m\u001b[0m\n",
      "\u001b[0;31mNameError\u001b[0m: name 'linear_disc_scores' is not defined"
     ]
    },
    {
     "data": {
      "image/png": "[encoded data removed]",
      "text/plain": [
       "<Figure size 1440x720 with 6 Axes>"
      ]
     },
     "metadata": {},
     "output_type": "display_data"
    }
   ],
   "source": [
    "fig, axs = plt.subplots(2, 3, figsize=(20, 10))\n",
    "fig.suptitle('Accuracy boxplots for all 6 methods')\n",
    "axs[0, 0].boxplot(linear_disc_scores, flierprops=dict(markerfacecolor='r', marker='s'))\n",
    "axs[0, 1].boxplot(perceptron_scores, flierprops=dict(markerfacecolor='r', marker='s'))\n",
    "axs[0, 2].boxplot(nb_scores, flierprops=dict(markerfacecolor='r', marker='s'))\n",
    "axs[1, 0].boxplot(lr_scores, flierprops=dict(markerfacecolor='r', marker='s'))\n",
    "axs[1, 1].boxplot(ann_scores, flierprops=dict(markerfacecolor='r', marker='s'))\n",
    "axs[1, 2].boxplot(svc_scores, flierprops=dict(markerfacecolor='r', marker='s'))\n",
    "axs[0, 0].set_title(f'Linear Discriminant Analysis: {round(np.mean(linear_disc_scores), 6) * 100}')\n",
    "axs[0, 1].set_title(f'Perceptron: {round(np.mean(perceptron_scores), 6) * 100}')\n",
    "axs[0, 2].set_title(f'Naïve Bayes: {round(np.mean(nb_scores), 6) * 100}')\n",
    "axs[1, 0].set_title(f'Logistic Regression: {round(np.mean(lr_scores), 6) * 100}')\n",
    "axs[1, 1].set_title(f'Artificial Neural Networks: {round(np.mean(ann_scores), 6) * 100}')\n",
    "axs[1, 2].set_title(f'Support Vector Classifier: {round(np.mean(svc_scores), 6) * 100}')"
   ]
  },
  {
   "cell_type": "code",
   "execution_count": null,
   "id": "15ef98d7",
   "metadata": {},
   "outputs": [],
   "source": []
  }
 ],
 "metadata": {
  "kernelspec": {
   "display_name": "Python 3",
   "language": "python",
   "name": "python3"
  },
  "language_info": {
   "codemirror_mode": {
    "name": "ipython",
    "version": 3
   },
   "file_extension": ".py",
   "mimetype": "text/x-python",
   "name": "python",
   "nbconvert_exporter": "python",
   "pygments_lexer": "ipython3",
   "version": "3.7.10"
  }
 },
 "nbformat": 4,
 "nbformat_minor": 5
}
